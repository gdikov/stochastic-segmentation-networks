{
 "cells": [
  {
   "cell_type": "markdown",
   "metadata": {
    "slideshow": {
     "slide_type": "slide"
    }
   },
   "source": [
    "#  Stochastic Segmentation Networks: Modelling Spatially Correlated Aleatoric Uncertainty\n",
    "\n",
    "Monteiro et al. 2020, accepted at NeurIPS 2020.\n",
    "\n",
    "![caption](files/covmat.png)"
   ]
  },
  {
   "cell_type": "code",
   "execution_count": 1,
   "metadata": {
    "slideshow": {
     "slide_type": "skip"
    }
   },
   "outputs": [],
   "source": [
    "%matplotlib inline\n",
    "\n",
    "import matplotlib.pyplot as plt\n",
    "import numpy as np\n",
    "import torch\n",
    "import tqdm.notebook as tqdm\n",
    "\n",
    "plt.rcParams.update({\n",
    "    'font.size': 8,\n",
    "    'text.usetex': True,\n",
    "    'text.latex.preamble': r'\\usepackage{amsfonts}'\n",
    "})"
   ]
  },
  {
   "cell_type": "code",
   "execution_count": 2,
   "metadata": {
    "slideshow": {
     "slide_type": "skip"
    }
   },
   "outputs": [],
   "source": [
    "MARGIN = 8\n",
    "DIM = 32\n",
    "\n",
    "rng = np.random.RandomState(7)\n",
    "\n",
    "def build_input(batch_size, shape):\n",
    "    h, w = shape\n",
    "    img = np.ones((batch_size, h, w), dtype=np.float32) + 0.5*rng.randn(h, w)\n",
    "    line_pos = rng.randint(0, h - MARGIN - 1, size=batch_size)\n",
    "    for i, lp in enumerate(line_pos):\n",
    "        img[i, lp:lp+MARGIN] = 0.9*rng.randn(MARGIN, w)\n",
    "        img[i, :lp] = -1.0 + 0.5*rng.randn(lp, w)\n",
    "    return img.astype(np.float32), line_pos\n",
    "\n",
    "def build_output(inp, line_pos):\n",
    "    batch_size = inp.shape[0]\n",
    "    offsets = line_pos\n",
    "    output = np.zeros_like(inp)\n",
    "    line_pos = rng.randint(0, MARGIN, size=batch_size) + offsets\n",
    "    for i, lp in enumerate(line_pos):\n",
    "        output[i, lp:] = 1.0\n",
    "    return output.astype(np.float32)\n",
    "\n",
    "def produce_data(batch_size, dim):\n",
    "    while True:\n",
    "        xs, line_pos = build_input(batch_size, (dim, dim))\n",
    "        ys = build_output(xs, line_pos)\n",
    "        yield np.expand_dims(xs, 1), np.expand_dims(ys, 1)\n",
    "        \n",
    "def plot_im(xs, cmap, title=None):\n",
    "    fig, ax = plt.subplots(1, 1, figsize=(6, 6))\n",
    "    xs = xs.squeeze().T[:16]\n",
    "    ax.imshow(xs, cmap, interpolation=\"none\")\n",
    "    ax.set_xticks([])\n",
    "    ax.set_yticks([])\n",
    "    ax.set_title(title, fontsize=40, pad=20)\n",
    "\n",
    "def sample_bernoulli_im(im, n_samples=1):\n",
    "    im = np.concatenate([1 - im, im], axis=1)[0].transpose(1, 2, 0)\n",
    "    n_ims = np.tile(im[None, ...], [n_samples, 1, 1, 1])\n",
    "    sample = (n_ims.cumsum(-1) >= rng.uniform(size=n_ims.shape[:-1])[..., None]).argmax(-1)\n",
    "    return sample"
   ]
  },
  {
   "cell_type": "code",
   "execution_count": 3,
   "metadata": {
    "slideshow": {
     "slide_type": "skip"
    }
   },
   "outputs": [],
   "source": [
    "inp, lp = build_input(1, (DIM, DIM))\n",
    "out = np.concatenate([build_output(inp, lp) for _ in range(100)], axis=0)"
   ]
  },
  {
   "cell_type": "markdown",
   "metadata": {
    "slideshow": {
     "slide_type": "slide"
    }
   },
   "source": [
    "## Some data is messy \n",
    "\n",
    "For the same image $x$ we have multiple ambigous labels $y_{1,2,\\dots}$."
   ]
  },
  {
   "cell_type": "code",
   "execution_count": 4,
   "metadata": {
    "slideshow": {
     "slide_type": "fragment"
    }
   },
   "outputs": [
    {
     "data": {
      "image/png": "[encoded data removed]",
      "text/plain": [
       "<Figure size 432x432 with 1 Axes>"
      ]
     },
     "metadata": {},
     "output_type": "display_data"
    }
   ],
   "source": [
    "plot_im(inp[0], cmap=\"coolwarm\", title=r\"$$x$$\")"
   ]
  },
  {
   "cell_type": "code",
   "execution_count": 5,
   "metadata": {
    "slideshow": {
     "slide_type": "subslide"
    }
   },
   "outputs": [
    {
     "data": {
      "image/png": "[encoded data removed]",
      "text/plain": [
       "<Figure size 432x432 with 1 Axes>"
      ]
     },
     "metadata": {},
     "output_type": "display_data"
    },
    {
     "data": {
      "image/png": "[encoded data removed]",
      "text/plain": [
       "<Figure size 432x432 with 1 Axes>"
      ]
     },
     "metadata": {},
     "output_type": "display_data"
    }
   ],
   "source": [
    "plot_im(inp[0], cmap=\"coolwarm\", title=r\"$$x$$\")\n",
    "plot_im(out[0], cmap=\"gray\", title=r\"$$y_1$$\")"
   ]
  },
  {
   "cell_type": "code",
   "execution_count": 6,
   "metadata": {
    "slideshow": {
     "slide_type": "subslide"
    }
   },
   "outputs": [
    {
     "data": {
      "image/png": "[encoded data removed]",
      "text/plain": [
       "<Figure size 432x432 with 1 Axes>"
      ]
     },
     "metadata": {},
     "output_type": "display_data"
    },
    {
     "data": {
      "image/png": "[encoded data removed]",
      "text/plain": [
       "<Figure size 432x432 with 1 Axes>"
      ]
     },
     "metadata": {},
     "output_type": "display_data"
    }
   ],
   "source": [
    "plot_im(inp[0], cmap=\"coolwarm\", title=r\"$$x$$\")\n",
    "plot_im(out[4], cmap=\"gray\", title=r\"$$y_2$$\")"
   ]
  },
  {
   "cell_type": "code",
   "execution_count": 7,
   "metadata": {
    "slideshow": {
     "slide_type": "subslide"
    }
   },
   "outputs": [
    {
     "data": {
      "image/png": "[encoded data removed]",
      "text/plain": [
       "<Figure size 432x432 with 1 Axes>"
      ]
     },
     "metadata": {},
     "output_type": "display_data"
    }
   ],
   "source": [
    "plot_im(out.mean(0), cmap=\"gray\", title=r\"$$\\mathbb{E}[y \\mid x]$$\")"
   ]
  },
  {
   "cell_type": "markdown",
   "metadata": {
    "slideshow": {
     "slide_type": "slide"
    }
   },
   "source": [
    "## Probabilistic perspective\n",
    "\n",
    "#### Typical modelling approach:\n",
    "\n",
    " * Assume an underlying data distribution $p(y \\mid x)$,\n",
    " * construct a parametric model: $p_\\phi(y \\mid x) = \\int p(y \\mid \\phi) p(\\phi \\mid x)d\\phi$,\n",
    " * optimise $\\phi$ to minimise a divergence between $p$ and $p_\\phi$."
   ]
  },
  {
   "cell_type": "markdown",
   "metadata": {
    "slideshow": {
     "slide_type": "subslide"
    }
   },
   "source": [
    "#### Simplifications:\n",
    "\n",
    " * Model only an \"output\" variable $\\eta$ (e.g. the logits before softmax);\n",
    "     - the model becomes $p_\\phi(y \\mid x) = \\int p(y \\mid \\eta) p_\\phi(\\eta \\mid x)d\\eta$\n",
    " * set $p_\\phi(\\eta \\mid x)$ to be a delta function, i.e. $\\eta = f_\\phi(x)$ is deterministic\n",
    "     - the integral reduces to the likelihood: $p_\\phi(y \\mid x) = p(y \\mid f_\\phi(x))$\n",
    " * set $p(y \\mid f_\\phi(x))$ to be a factorised categorical distribution\n",
    " * optimise KL-divergence between $p$ and $p_\\phi$ using MC approximation:\n",
    " \n",
    " Using these assumptions, we can derive an easy to implement model:\n",
    " \n",
    " \n",
    " $$\n",
    " \\begin{align}\n",
    " &\\text{argmin}_\\phi D_\\text{KL}\\left(p(y \\mid x) \\mid\\mid p(y \\mid f_\\phi(x))\\right) \\\\\n",
    " &= \\text{argmin}_\\phi \\int p(y \\mid x) \\log{\\frac{p(y \\mid x)}{p(y \\mid f_\\phi(x)))}} \\\\\n",
    " &= \\text{...steps left as an exercise to the reader...} \\\\\n",
    " &\\approx \\text{argmin}_\\phi -\\frac{1}{N}\\sum_{n,i,c}y^n_{i,c}\\log{\\text{softmax}(f_\\phi(x^n))_{i,c}},\\quad (x^n, y^n) \\sim p(x, y) \\quad \\text{for} \\, n=1, 2, \\dots, N\n",
    " \\end{align}\n",
    " $$\n",
    " \n",
    " **For a good solution $\\phi^*$ we will have $p(y_i \\mid f_{\\phi^*}(x)_i) = p(y_i \\mid x)$**"
   ]
  },
  {
   "cell_type": "markdown",
   "metadata": {
    "slideshow": {
     "slide_type": "subslide"
    }
   },
   "source": [
    "![caption](files/gm_det.png)"
   ]
  },
  {
   "cell_type": "code",
   "execution_count": 8,
   "metadata": {
    "slideshow": {
     "slide_type": "subslide"
    }
   },
   "outputs": [],
   "source": [
    "class MLP(torch.nn.Module):\n",
    "    def __init__(self, inp_size, n_hidden):\n",
    "        super(MLP, self).__init__()\n",
    "        self.layers = [torch.nn.Linear(inp_size, n_hidden[0])]\n",
    "        for cur, nxt in zip(n_hidden, n_hidden[1:]): \n",
    "            self.layers.append(torch.nn.Linear(cur, nxt))\n",
    "        self.layers.append(torch.nn.Linear(n_hidden[-1], inp_size))\n",
    "        self.model = torch.nn.Sequential(*self.layers)\n",
    "\n",
    "    def forward(self, xs, as_probs=False):\n",
    "        orig_shape = xs.shape\n",
    "        out = xs.view(xs.shape[0], -1)\n",
    "        for layer in self.layers[:-1]:\n",
    "            out = torch.nn.functional.relu(layer(out))\n",
    "        out = self.layers[-1](out)\n",
    "        if as_probs:\n",
    "            out = torch.sigmoid(out)\n",
    "        return out.view(*orig_shape)\n",
    "    \n",
    "    def log_likelihood(self, xs, ys):\n",
    "        params = self.forward(xs)\n",
    "        logprobs = torch.distributions.Bernoulli(logits=params).log_prob(ys).sum((1, 2, 3))\n",
    "        return logprobs"
   ]
  },
  {
   "cell_type": "code",
   "execution_count": 9,
   "metadata": {
    "slideshow": {
     "slide_type": "subslide"
    }
   },
   "outputs": [],
   "source": [
    "def run_step(xs_t, ys_t, opt, net):\n",
    "    opt.zero_grad()\n",
    "    loss = -torch.mean(net.log_likelihood(xs_t, ys_t))\n",
    "    loss.backward()\n",
    "    opt.step()\n",
    "    return loss.detach().numpy()"
   ]
  },
  {
   "cell_type": "code",
   "execution_count": 25,
   "metadata": {
    "slideshow": {
     "slide_type": "subslide"
    }
   },
   "outputs": [
    {
     "data": {
      "application/vnd.jupyter.widget-view+json": {
       "model_id": "fbeee2d2366c4576a4f00570314091fa",
       "version_major": 2,
       "version_minor": 0
      },
      "text/plain": [
       "HBox(children=(FloatProgress(value=0.0, max=1000.0), HTML(value='')))"
      ]
     },
     "metadata": {},
     "output_type": "display_data"
    },
    {
     "name": "stdout",
     "output_type": "stream",
     "text": [
      "\n"
     ]
    },
    {
     "data": {
      "image/png": "[encoded data removed]",
      "text/plain": [
       "<Figure size 432x432 with 1 Axes>"
      ]
     },
     "metadata": {},
     "output_type": "display_data"
    }
   ],
   "source": [
    "producer = produce_data(10, DIM)\n",
    "net = MLP(inp_size=DIM*DIM, n_hidden=[64, 64, 64])\n",
    "opt = torch.optim.Adam(net.parameters(), lr=3e-4)\n",
    "\n",
    "N_ITERS = 1000\n",
    "pbar = tqdm.tqdm(range(N_ITERS))\n",
    "\n",
    "for i in pbar:\n",
    "    xs, ys = next(producer)\n",
    "    xs_t = torch.as_tensor(xs)\n",
    "    ys_t = torch.as_tensor(ys)\n",
    "    loss = run_step(xs_t, ys_t, opt, net)\n",
    "    pbar.set_description_str(f\"loss: {loss:4.2f} \")\n",
    "\n",
    "ys_pred = net(torch.as_tensor(inp[:, None, ...]), as_probs=True).detach().numpy()\n",
    "plot_im(ys_pred[0], cmap=\"gray\", title=r\"$$p(y \\mid f_{\\phi^*}(x))$$\")"
   ]
  },
  {
   "cell_type": "markdown",
   "metadata": {
    "slideshow": {
     "slide_type": "subslide"
    }
   },
   "source": [
    "* What we see is a distribution, not a sample from it.  \n",
    "* We can obtain a useful sample by applying argmax/thresholding operation (mode extraction)"
   ]
  },
  {
   "cell_type": "code",
   "execution_count": 11,
   "metadata": {
    "slideshow": {
     "slide_type": "fragment"
    }
   },
   "outputs": [
    {
     "data": {
      "image/png": "[encoded data removed]",
      "text/plain": [
       "<Figure size 432x432 with 1 Axes>"
      ]
     },
     "metadata": {},
     "output_type": "display_data"
    }
   ],
   "source": [
    "plot_im(ys_pred[0] > 0.5, cmap=\"gray\", title=r\"$$y = \\mathrm{argmax}(p(y \\mid f_{\\phi^*}(x)))$$\")"
   ]
  },
  {
   "cell_type": "markdown",
   "metadata": {
    "slideshow": {
     "slide_type": "subslide"
    }
   },
   "source": [
    "* Alternatively we can also sample from $p(y \\mid f_{\\phi^*}(x))$ at the cost of label inconsistencies."
   ]
  },
  {
   "cell_type": "code",
   "execution_count": 12,
   "metadata": {
    "slideshow": {
     "slide_type": "fragment"
    }
   },
   "outputs": [
    {
     "data": {
      "image/png": "[encoded data removed]",
      "text/plain": [
       "<Figure size 432x432 with 1 Axes>"
      ]
     },
     "metadata": {},
     "output_type": "display_data"
    }
   ],
   "source": [
    "fd_sample = sample_bernoulli_im(ys_pred)\n",
    "plot_im(fd_sample, cmap=\"gray\", title=r\"$$y \\sim p(y \\mid f_{\\phi^*}(x))$$\")"
   ]
  },
  {
   "cell_type": "markdown",
   "metadata": {
    "slideshow": {
     "slide_type": "slide"
    }
   },
   "source": [
    "## Modelling dependence in $y$\n",
    "\n",
    "Before:\n",
    "![caption](files/gm_det.png) \n",
    "\n",
    "Now:\n",
    "![caption](files/gm_sto.png)"
   ]
  },
  {
   "cell_type": "markdown",
   "metadata": {
    "slideshow": {
     "slide_type": "subslide"
    }
   },
   "source": [
    "#### Complications:\n",
    "\n",
    " Discard two simplifying assumptions of the older model:\n",
    " 1. Logits are independent\n",
    " 2. $p(\\eta \\mid x)$ is a delta function"
   ]
  },
  {
   "cell_type": "markdown",
   "metadata": {
    "slideshow": {
     "slide_type": "fragment"
    }
   },
   "source": [
    "Both can be tackled by letting $p(\\eta \\mid x) = \\mathcal{N}\\left(\\eta \\mid \\mu(x), \\Sigma(x)\\right)$"
   ]
  },
  {
   "cell_type": "markdown",
   "metadata": {
    "slideshow": {
     "slide_type": "fragment"
    }
   },
   "source": [
    "However, $\\Sigma(x)$ will become intractable if one has to model all $\\frac{1}{2}(H\\times W\\times C)^2$ correlations!"
   ]
  },
  {
   "cell_type": "markdown",
   "metadata": {
    "slideshow": {
     "slide_type": "fragment"
    }
   },
   "source": [
    "Introduce low-rank parameterisation for $\\Sigma = PP^T + D$ where $P\\in \\mathbb{R}^{(H\\times W\\times C)\\times R}$ and $R \\ll H\\times W\\times C$.\n",
    "\n",
    "$R$ is a hyperparameter controlling the rank of the covariance factor matrix $P$ and $D$ is a diagonal matrix."
   ]
  },
  {
   "cell_type": "markdown",
   "metadata": {
    "slideshow": {
     "slide_type": "subslide"
    }
   },
   "source": [
    "This modifies the objective slightly:\n",
    "\n",
    "* the model becomes $p_\\phi(y \\mid x) = \\int p(y \\mid \\eta) \\mathcal{N}\\left(\\eta \\mid \\mu(x),\\Sigma(x)\\right)d\\eta \\approx \\frac{1}{M}\\sum_i p(y \\mid \\eta_i),\\quad \\eta_i \\sim \\mathcal{N}\\left(\\mu(x),\\Sigma(x)\\right)$\n",
    "$$\n",
    "\\begin{align}\n",
    "&\\text{argmin}_\\phi -\\frac{1}{N}\\sum_{n,i,c}y^n_{i,c}\\log{\\text{softmax}(\\underset{\\eta^n}{\\underbrace{f_\\phi(x^n)}})_{i,c}},\\quad (x^n, y^n) \\sim p(x, y)\\\\\n",
    "&\\rightarrow \\text{argmin}_\\phi -\\frac{1}{N}\\sum_n \\log{\\left(\\frac{1}{M}\\sum_j\\exp{\\left(\\sum_{i,c}y^n_{i,c}\\log{\\text{softmax}\\left(\\eta^n_j\\right)_{i,c}}\\right)}\\right)},\\quad \\eta^n\\sim \\mathcal{N}\\left(\\mu(x^n), \\Sigma(x^n)\\right);\\quad (x^n, y^n) \\sim p(x, y)\n",
    "\\end{align}\n",
    "$$"
   ]
  },
  {
   "cell_type": "markdown",
   "metadata": {
    "slideshow": {
     "slide_type": "subslide"
    }
   },
   "source": [
    "Lastly, we need to learn $\\mu(x)$ and $\\Sigma(x)$. Apply reparametrisation trick:\n",
    "\n",
    "$$\n",
    "\\eta \\sim \\mathcal{N}\\left(\\mu(x), \\Sigma(x)\\right) \\iff \\mu(x) + \\sqrt{\\Sigma(x)}\\epsilon,\\quad \\epsilon \\sim \\mathcal{N}\\left(0, I\\right)\n",
    "$$"
   ]
  },
  {
   "cell_type": "code",
   "execution_count": 13,
   "metadata": {
    "slideshow": {
     "slide_type": "subslide"
    }
   },
   "outputs": [],
   "source": [
    "class StochasticMLP(torch.nn.Module):\n",
    "    def __init__(self, inp_size, n_hidden, cov_factor=1):\n",
    "        super(StochasticMLP, self).__init__()\n",
    "        self.cov_factor = cov_factor\n",
    "        self.layers = [torch.nn.Linear(inp_size, n_hidden[0])]\n",
    "        for cur, nxt in zip(n_hidden, n_hidden[1:]): \n",
    "            self.layers.append(torch.nn.Linear(cur, nxt))\n",
    "        self.mu = torch.nn.Linear(n_hidden[-1], inp_size)\n",
    "        self.P = torch.nn.Linear(n_hidden[-1], inp_size*cov_factor)\n",
    "        self.D = torch.nn.Linear(n_hidden[-1], inp_size)\n",
    "        self.layers.extend([self.mu, self.P, self.D])\n",
    "        self.model = torch.nn.Sequential(*self.layers)\n",
    "\n",
    "    def forward(self, xs, as_probs=False, n_samples=1, use_mode=False):\n",
    "        out = xs.view(xs.shape[0], -1)\n",
    "        for layer in self.layers[:-3]:\n",
    "            out = torch.nn.functional.relu(layer(out))\n",
    "        if not use_mode:\n",
    "            cov_factor = self.P(out).view(xs.shape[0], -1, self.cov_factor)\n",
    "            cov_diag = torch.exp(self.D(out)) + 1e-3\n",
    "            out = torch.distributions.LowRankMultivariateNormal(\n",
    "                self.mu(out), cov_factor, cov_diag\n",
    "            ).rsample((n_samples,)).permute(1, 0, 2)\n",
    "        else:\n",
    "            out = self.mu(out)\n",
    "        if as_probs:\n",
    "            out = torch.sigmoid(out)\n",
    "        return out.view(xs.shape[0], n_samples, *xs.shape[1:])\n",
    "    \n",
    "    def log_likelihood(self, xs, ys, n_samples=8):\n",
    "        params = self.forward(xs, n_samples=n_samples).view(xs.shape[0], n_samples, -1)\n",
    "        logprobs = torch.distributions.Bernoulli(logits=params).log_prob(ys.view(xs.shape[0], 1, -1))\n",
    "        logprobs = torch.logsumexp(logprobs.sum(-1), dim=1) - np.log(n_samples)\n",
    "        return logprobs"
   ]
  },
  {
   "cell_type": "code",
   "execution_count": null,
   "metadata": {
    "slideshow": {
     "slide_type": "skip"
    }
   },
   "outputs": [],
   "source": [
    "def compute_cov(self, xs):\n",
    "    out = xs.view(xs.shape[0], -1)\n",
    "    for layer in self.layers[:-3]:\n",
    "        out = torch.nn.functional.relu(layer(out))\n",
    "    cov_factor = self.P(out).view(xs.shape[0], -1, self.cov_factor)\n",
    "    cov_diag = torch.exp(self.D(out)) + 1e-3\n",
    "    return cov_factor, cov_diag\n",
    "\n",
    "StochasticMLP.compute_cov = compute_cov"
   ]
  },
  {
   "cell_type": "code",
   "execution_count": 14,
   "metadata": {
    "slideshow": {
     "slide_type": "subslide"
    }
   },
   "outputs": [
    {
     "data": {
      "application/vnd.jupyter.widget-view+json": {
       "model_id": "ba21e3d17d4b4aeca4e4377d653fa6d0",
       "version_major": 2,
       "version_minor": 0
      },
      "text/plain": [
       "HBox(children=(FloatProgress(value=0.0, max=20000.0), HTML(value='')))"
      ]
     },
     "metadata": {},
     "output_type": "display_data"
    },
    {
     "name": "stdout",
     "output_type": "stream",
     "text": [
      "\n"
     ]
    }
   ],
   "source": [
    "net = StochasticMLP(inp_size=DIM*DIM, n_hidden=[64, 64, 64], cov_factor=2)\n",
    "opt = torch.optim.Adam(net.parameters(), lr=5e-4)\n",
    "\n",
    "N_ITERS = 20000\n",
    "pbar = tqdm.tqdm(range(N_ITERS))\n",
    "\n",
    "for i in pbar:\n",
    "    xs, ys = next(producer)\n",
    "    xs_t = torch.as_tensor(xs)\n",
    "    ys_t = torch.as_tensor(ys)\n",
    "    loss = run_step(xs_t, ys_t, opt, net)\n",
    "    pbar.set_description_str(f\"loss: {loss:4.2f} \")"
   ]
  },
  {
   "cell_type": "markdown",
   "metadata": {
    "slideshow": {
     "slide_type": "subslide"
    }
   },
   "source": [
    "Sampling from $\\mathcal{N}\\left(\\eta \\mid \\mu(x),\\Sigma(x)\\right)$ results different probabilities for the output. Applying argmax on each gives samples $y_{1,2,\\dots}$:"
   ]
  },
  {
   "cell_type": "code",
   "execution_count": 15,
   "metadata": {
    "slideshow": {
     "slide_type": "fragment"
    }
   },
   "outputs": [
    {
     "data": {
      "image/png": "[encoded data removed]",
      "text/plain": [
       "<Figure size 432x432 with 1 Axes>"
      ]
     },
     "metadata": {},
     "output_type": "display_data"
    },
    {
     "data": {
      "image/png": "[encoded data removed]",
      "text/plain": [
       "<Figure size 432x432 with 1 Axes>"
      ]
     },
     "metadata": {},
     "output_type": "display_data"
    }
   ],
   "source": [
    "ys_pred = net(torch.as_tensor(inp[:, None, ...]), as_probs=True, n_samples=200).detach().numpy()[0]\n",
    "plot_im(ys_pred[0] > 0.5, cmap=\"gray\", title=r\"$$y_1 = \\mathrm{argmax}(p(y \\mid \\eta_1))$$\")\n",
    "plot_im(ys_pred[1] > 0.5, cmap=\"gray\", title=r\"$$y_2 = \\mathrm{argmax}(p(y \\mid \\eta_2))$$\")"
   ]
  },
  {
   "cell_type": "markdown",
   "metadata": {},
   "source": [
    "Verfiy that the average of all samples resembles the average of all ground truth labels."
   ]
  },
  {
   "cell_type": "code",
   "execution_count": 16,
   "metadata": {
    "slideshow": {
     "slide_type": "subslide"
    }
   },
   "outputs": [
    {
     "data": {
      "image/png": "[encoded data removed]",
      "text/plain": [
       "<Figure size 432x432 with 1 Axes>"
      ]
     },
     "metadata": {},
     "output_type": "display_data"
    }
   ],
   "source": [
    "plot_im(ys_pred.mean(0), cmap=\"gray\", title=\"$$\\mathbb{E}[\\mathrm{softmax}(\\eta)\\mid x]$$\")"
   ]
  },
  {
   "cell_type": "code",
   "execution_count": 18,
   "metadata": {
    "slideshow": {
     "slide_type": "subslide"
    }
   },
   "outputs": [
    {
     "data": {
      "image/png": "[encoded data removed]",
      "text/plain": [
       "<Figure size 432x432 with 1 Axes>"
      ]
     },
     "metadata": {},
     "output_type": "display_data"
    }
   ],
   "source": [
    "mode_pred = net(torch.as_tensor(inp[:, None, ...]), as_probs=True, use_mode=True).detach().numpy()\n",
    "plot_im(mode_pred > 0.5, cmap=\"gray\", title=r\"$$y = \\mathrm{argmax}(p(y \\mid \\mu(x)))$$\")"
   ]
  },
  {
   "cell_type": "markdown",
   "metadata": {
    "slideshow": {
     "slide_type": "slide"
    }
   },
   "source": [
    "## Extra: explore the covariance"
   ]
  },
  {
   "cell_type": "code",
   "execution_count": 19,
   "metadata": {
    "slideshow": {
     "slide_type": "fragment"
    }
   },
   "outputs": [],
   "source": [
    "cf, cd = net.compute_cov(torch.as_tensor(inp[:, None, ...]))"
   ]
  },
  {
   "cell_type": "code",
   "execution_count": 20,
   "metadata": {
    "slideshow": {
     "slide_type": "fragment"
    }
   },
   "outputs": [
    {
     "data": {
      "image/png": "[encoded data removed]",
      "text/plain": [
       "<Figure size 432x432 with 1 Axes>"
      ]
     },
     "metadata": {},
     "output_type": "display_data"
    }
   ],
   "source": [
    "plot_im(cf.view(1, 32, 32, 2).detach().numpy().sum(-1), cmap=\"gray\")"
   ]
  },
  {
   "cell_type": "code",
   "execution_count": 21,
   "metadata": {
    "slideshow": {
     "slide_type": "subslide"
    }
   },
   "outputs": [],
   "source": [
    "cf = cf.detach().numpy()[0]\n",
    "cd = cd.detach().numpy()[0]\n",
    "cov_mat = cf @ cf.T + np.diag(cd)"
   ]
  },
  {
   "cell_type": "code",
   "execution_count": 23,
   "metadata": {
    "slideshow": {
     "slide_type": "fragment"
    }
   },
   "outputs": [
    {
     "data": {
      "image/png": "[encoded data removed]",
      "text/plain": [
       "<Figure size 432x288 with 1 Axes>"
      ]
     },
     "metadata": {},
     "output_type": "display_data"
    }
   ],
   "source": [
    "plt.imshow(cov_mat, cmap=\"gray\")\n",
    "plt.gca().set_xticks([])\n",
    "plt.gca().set_yticks([])"
   ]
  }
 ],
 "metadata": {
  "kernelspec": {
   "display_name": "Python 3",
   "language": "python",
   "name": "python3"
  },
  "language_info": {
   "codemirror_mode": {
    "name": "ipython",
    "version": 3
   },
   "file_extension": ".py",
   "mimetype": "text/x-python",
   "name": "python",
   "nbconvert_exporter": "python",
   "pygments_lexer": "ipython3",
   "version": "3.8.2"
  }
 },
 "nbformat": 4,
 "nbformat_minor": 4
}
